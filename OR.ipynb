{
 "cells": [
  {
   "cell_type": "code",
   "id": "initial_id",
   "metadata": {
    "collapsed": true,
    "ExecuteTime": {
     "end_time": "2025-09-07T09:33:28.108641Z",
     "start_time": "2025-09-07T09:33:17.512540Z"
    }
   },
   "source": [
    "import cv2\n",
    "from keras.applications.mobilenet_v2 import MobileNetV2\n",
    "from keras.preprocessing import image\n",
    "#import keras.utils as image\n",
    "from keras.applications.mobilenet_v2 import preprocess_input, decode_predictions\n",
    "import numpy as np"
   ],
   "outputs": [],
   "execution_count": 6
  },
  {
   "metadata": {
    "ExecuteTime": {
     "end_time": "2025-09-07T09:33:31.252778Z",
     "start_time": "2025-09-07T09:33:31.246691Z"
    }
   },
   "cell_type": "code",
   "source": "cv2.__version__",
   "id": "cc394d7ecc96f5ca",
   "outputs": [
    {
     "data": {
      "text/plain": [
       "'4.12.0'"
      ]
     },
     "execution_count": 7,
     "metadata": {},
     "output_type": "execute_result"
    }
   ],
   "execution_count": 7
  },
  {
   "metadata": {},
   "cell_type": "markdown",
   "source": "# Using Mobilenet_V2 as Prediction Engine",
   "id": "e35e0efcf2318983"
  },
  {
   "metadata": {
    "ExecuteTime": {
     "end_time": "2025-09-07T09:33:33.612255Z",
     "start_time": "2025-09-07T09:33:33.146511Z"
    }
   },
   "cell_type": "code",
   "source": "model = MobileNetV2(weights=None, include_top=True, input_shape=(224, 224, 3))",
   "id": "c19d456cfa3b6bc0",
   "outputs": [],
   "execution_count": 8
  },
  {
   "metadata": {
    "ExecuteTime": {
     "end_time": "2025-09-07T09:33:49.097457Z",
     "start_time": "2025-09-07T09:33:48.958822Z"
    }
   },
   "cell_type": "code",
   "source": "model.load_weights(r\"D:\\Temp\\DataSeience\\09 - DeepLearning\\mobilenet_v2_weights_tf_dim_ordering_tf_kernels_1.0_224.h5\")",
   "id": "958ad6238bd62d9c",
   "outputs": [],
   "execution_count": 9
  },
  {
   "metadata": {
    "ExecuteTime": {
     "end_time": "2025-09-07T09:34:06.289677Z",
     "start_time": "2025-09-07T09:34:06.283614Z"
    }
   },
   "cell_type": "code",
   "source": [
    "def inference(x):\n",
    "    x = image.img_to_array(x)\n",
    "    x = np.expand_dims(x, axis=0)\n",
    "    x = preprocess_input(x)\n",
    "    preds = model.predict(x)\n",
    "    result =  decode_predictions(preds, top=1)[0][0][1]\n",
    "    return result"
   ],
   "id": "61a7d9b1bb58d58b",
   "outputs": [],
   "execution_count": 10
  },
  {
   "metadata": {},
   "cell_type": "markdown",
   "source": "# Access Webcam",
   "id": "b22a8be9eff90695"
  },
  {
   "metadata": {},
   "cell_type": "code",
   "outputs": [],
   "execution_count": null,
   "source": "cap = cv2.VideoCapture(0)",
   "id": "be653a1929a95a28"
  },
  {
   "metadata": {},
   "cell_type": "markdown",
   "source": "# Using Model With Webcam",
   "id": "baad0704b3de6a4f"
  },
  {
   "metadata": {},
   "cell_type": "code",
   "outputs": [],
   "execution_count": null,
   "source": [
    "thwhile True:\n",
    "    connect_webcam, frame = cap.read()\n",
    "    frame = cv2.resize(frame, (224, 224))\n",
    "    predicted = inference(frame[...,::-1])\n",
    "    cv2.putText(frame,  predicted, (30, 30), cv2.FONT_HERSHEY_SIMPLEX, 1.0, (0, 0, 255), lineType=cv2.LINE_AA)\n",
    "    cv2.imshow('Webcam', frame)\n",
    "    if cv2.waitKey(1) == 13: #13 is the Enter Key\n",
    "        break\n",
    "cap.release()\n",
    "cv2.destroyAllWindows()"
   ],
   "id": "add0884a283a7c3e"
  }
 ],
 "metadata": {
  "kernelspec": {
   "display_name": "Python 3",
   "language": "python",
   "name": "python3"
  },
  "language_info": {
   "codemirror_mode": {
    "name": "ipython",
    "version": 2
   },
   "file_extension": ".py",
   "mimetype": "text/x-python",
   "name": "python",
   "nbconvert_exporter": "python",
   "pygments_lexer": "ipython2",
   "version": "2.7.6"
  }
 },
 "nbformat": 4,
 "nbformat_minor": 5
}
